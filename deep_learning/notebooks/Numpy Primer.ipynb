{
 "cells": [
  {
   "cell_type": "markdown",
   "metadata": {},
   "source": [
    "# Numpy Primer\n",
    "\n",
    "So far, discussed vectors and matrices as key tools. Also learned about operations like dot products, elementwise multiplication / addition, and vector matrix multiplication. \n",
    "\n",
    "Will still keep writing these functions in python so we understand what is going on, but want to go through the primer so we're ready for the transition into numpy only later on. "
   ]
  },
  {
   "cell_type": "code",
   "execution_count": 8,
   "metadata": {},
   "outputs": [
    {
     "name": "stdout",
     "output_type": "stream",
     "text": [
      "[0 1 2 3]\n",
      "[4 5 6 7]\n",
      "[[0 1 2 3]\n",
      " [4 5 6 7]]\n",
      "[[ 0.  0.  0.  0.]\n",
      " [ 0.  0.  0.  0.]]\n",
      "[[ 0.38523166  0.63970855  0.61104848  0.62257889  0.04455017]\n",
      " [ 0.95508459  0.92090238  0.75984612  0.66778179  0.75651852]]\n"
     ]
    }
   ],
   "source": [
    "# Basics\n",
    "import numpy as np\n",
    "\n",
    "a = np.array([0,1,2,3]) # just a normal vector\n",
    "b = np.array([4,5,6,7])\n",
    "c = np.array([[0,1,2,3], [4,5,6,7]]) # a matrix\n",
    "\n",
    "d = np.zeros((2,4)) # a 2x4 matrix of zeroes\n",
    "e = np.random.rand(2,5) # random 2x5 matrix where each num is between 0 and 1\n",
    "print a\n",
    "print b\n",
    "print c\n",
    "print d\n",
    "print e"
   ]
  },
  {
   "cell_type": "markdown",
   "metadata": {},
   "source": [
    "These vectors also support operations."
   ]
  },
  {
   "cell_type": "code",
   "execution_count": 9,
   "metadata": {},
   "outputs": [
    {
     "name": "stdout",
     "output_type": "stream",
     "text": [
      "[ 0.   0.1  0.2  0.3]\n",
      "[[ 0.   0.2  0.4  0.6]\n",
      " [ 0.8  1.   1.2  1.4]]\n",
      "[ 0  5 12 21]\n",
      "[ 0.   1.   2.4  4.2]\n",
      "[[ 0  1  4  9]\n",
      " [ 0  5 12 21]]\n"
     ]
    }
   ],
   "source": [
    "print a * 0.1 # will multiply each number in 'a' by 0.1\n",
    "print c * 0.2 # multiplies every number in matrix by 0.2\n",
    "print a * b # multiplies elementwise between a nd b\n",
    "print a * b * 0.2 # chained multiplication\n",
    "print a * c # since a and c have same # of cols this is valid\n",
    "# print a * e ### THIS THROWS AN ERROR SINCE A AND E DONT HAVE SAME COLS"
   ]
  },
  {
   "cell_type": "markdown",
   "metadata": {},
   "source": [
    "Numpy works above by determining what variables you are operating on, and then performs the necessary operation. Makes it harder to read since you need to keep track of what each variable is while reading the code. \n",
    "\n",
    "When using 'dot' product, must keep following in mind: \n",
    "> Columns on first (left) matrix must == Rows on second (right) matrix\n",
    "\n",
    "`.shape` is a way to check the current rows, cols of a vector / matrix\n",
    "\n",
    "`.T` computes the transpose."
   ]
  },
  {
   "cell_type": "code",
   "execution_count": null,
   "metadata": {
    "collapsed": true
   },
   "outputs": [],
   "source": []
  }
 ],
 "metadata": {
  "kernelspec": {
   "display_name": "Python 2",
   "language": "python",
   "name": "python2"
  },
  "language_info": {
   "codemirror_mode": {
    "name": "ipython",
    "version": 2
   },
   "file_extension": ".py",
   "mimetype": "text/x-python",
   "name": "python",
   "nbconvert_exporter": "python",
   "pygments_lexer": "ipython2",
   "version": "2.7.13"
  }
 },
 "nbformat": 4,
 "nbformat_minor": 2
}
