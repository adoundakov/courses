{
 "cells": [
  {
   "cell_type": "markdown",
   "metadata": {},
   "source": [
    "# Chapter 2: Fundamental Concepts\n",
    "#### How do machines learn? \n",
    "\n",
    "## TOC\n",
    "- What are Deep Learning / ML / AI?\n",
    "- Parametric / non-parametric model\n",
    "- supervised vs unsupervised learning\n",
    "- How can machines learn? \n",
    "\n",
    "## What is Deep Learning? \n",
    "> Deep learning is subfield of methods for ML\n",
    "\n",
    "Also, DL, and by extension ML, have some overlap with the field of AI. However not all of ML or DL is used in the pursuit of AI. "
   ]
  },
  {
   "cell_type": "markdown",
   "metadata": {},
   "source": [
    "## What is Machine Learning? \n",
    "> Subfield of CS where machines learn to perform tasts for which they were _not_ explicitly programmed\n",
    "\n",
    "In short: see pattern, and attempt to imitate it in some way, either direct or indirect **imitation**. \n",
    "\n",
    "Direct / Indirect imitation can be thought of as a parallel to supervised / unsupervised machine learning. \n",
    "- Supervised == direct imitation of a pattern between 2 datasets. Always attempting to take input dataset and transform it into an output dataset. \n",
    "    - Examples: \n",
    "        - Using pixels of an image to detect the presence or absence of a cat\n",
    "        - Using the movies you've liked to predict movies you may like\n",
    "        - Using someone's words to predict whether they are happy or sad. \n",
    "        - Using weather data to predict the probability of rain.\n",
    "        - Using car engine sensors to predict the optimal tuning settings. \n",
    "\n",
    "These are all supervised machine learning tasks. Trying to learn to imitate the pattern between input dataset and output dataset. So using _only_ the input dataset, predict the output dataset! \n",
    "\n",
    "### Supervised Learning\n",
    "\n",
    "> Supervised Learning transforms one dataset into another. \n",
    "\n",
    "ML lets us go from 'what we know' --> Supervised Learning --> 'What we want to know'\n",
    "\n",
    "Supervised ML is the 'bread and butter' of applied AI. Majority of leveraging ML results in training of some classifier. \n",
    "\n",
    "### Unsupervised Learning\n",
    "\n",
    "> Unsupervised Learning groups your data.\n",
    "\n",
    "Unsupervised learning also transforms one dataset into another, but the output dataset is not previously known or understood. There is no _right_ answer. With unsupervised ML we are just looking for patterns and have the algo tell us stuff about it. \n",
    "\n",
    "All forms of unsupervised ML can be thought of as a form of clustering. \n",
    "\n",
    "Input data --> unsup ML --> list of cluster labels. \n",
    "\n",
    "These clusters are also useful in supervised machine learning. And frequently get used there. \n",
    "\n",
    "### Parametric vs Non-Parametric Learning \n",
    "##### Oversimplified: trial and error vs counting and probability\n",
    "Supervised vs Unsupervised learning is just one way to split up types of ML algos. Another way is parametric vs non-parametric. \n",
    "\n",
    "Let's also think of our ML black box as having two switches. One for supervision and another for parameterization. This gives us essentially 4 different base algos to work with. \n",
    "\n",
    "Where supervision really cares about the **type of pattern** learned, parametricism is about how learning is stored and also the method for learning. \n",
    "\n",
    "> A parametric model is characterized with a fixed number of parameters, where non-parametric model's have an infinite number. \n",
    "\n",
    "### Supervised Parametric Learning\n",
    "##### Oversimplified: Trial and Error using knobs. \n",
    "\n",
    "Think of supervised parametric machines as most defined: a machine with a fixed number of knobs. Learning happens by turning knobs. Input data comes in, is processed based on the current settings of the knobs, and is transformed into a prediction. \n",
    "\n",
    "The machine also keeps track of how successful the prediction was, and adjusts the knobs accordingly. This way, when it sees similar data again, it can make a better prediction. \n",
    "\n",
    "Let's break it down: \n",
    "\n",
    "1) Predict\n",
    "    - Use a sports analogy. Trying to predict if team will win World Series.\n",
    "    - Gather stats, send through machine, make prediction\n",
    "2) Compare to Truth pattern\n",
    "    - Compare prediction with pattern we care about (if the team won). They lost so Comparison is Won > Lost\n",
    "3) Learn Pattern\n",
    "    - Adjust knobs by studying how much the model missed, and also what the input data was. \n",
    "    - Each 'knob' in this picture is the _weight_ or how sensitive the machine is to different types of input data. \n",
    "\n",
    "### Unsupervised Parametric Learning"
   ]
  },
  {
   "cell_type": "code",
   "execution_count": null,
   "metadata": {
    "collapsed": true
   },
   "outputs": [],
   "source": []
  }
 ],
 "metadata": {
  "kernelspec": {
   "display_name": "Python 2",
   "language": "python",
   "name": "python2"
  },
  "language_info": {
   "codemirror_mode": {
    "name": "ipython",
    "version": 2
   },
   "file_extension": ".py",
   "mimetype": "text/x-python",
   "name": "python",
   "nbconvert_exporter": "python",
   "pygments_lexer": "ipython2",
   "version": "2.7.13"
  }
 },
 "nbformat": 4,
 "nbformat_minor": 2
}
